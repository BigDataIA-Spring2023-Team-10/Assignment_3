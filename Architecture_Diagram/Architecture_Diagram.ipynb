{
  "nbformat": 4,
  "nbformat_minor": 0,
  "metadata": {
    "colab": {
      "provenance": []
    },
    "kernelspec": {
      "name": "python3",
      "display_name": "Python 3"
    },
    "language_info": {
      "name": "python"
    }
  },
  "cells": [
    {
      "cell_type": "markdown",
      "source": [
        "## Deployment Architecture diagram"
      ],
      "metadata": {
        "id": "FtNwaRgKLs7x"
      }
    },
    {
      "cell_type": "code",
      "execution_count": 16,
      "metadata": {
        "id": "xAZ00xtqJcM9"
      },
      "outputs": [],
      "source": [
        "\n",
        "from diagrams import Diagram\n",
        "from diagrams import Cluster, Edge, Node\n",
        "from diagrams.azure.identity import Users\n",
        "from diagrams.onprem.container import Docker\n",
        "from diagrams.onprem.workflow import Airflow\n",
        "from diagrams.aws.storage import SimpleStorageServiceS3 as S3\n",
        "from diagrams.azure.database import SQLServers \n",
        "from diagrams.oci.monitoring import Notifications\n",
        "from diagrams.azure.general import Helpsupport\n",
        "from diagrams.gcp.operations import Monitoring\n",
        "from diagrams.aws.management import Cloudwatch\n",
        "from diagrams.aws.storage import ElasticBlockStoreEBSSnapshot\n",
        "\n",
        "with Diagram(\"Group10 Architecture Diagram\", show=False):\n",
        "    ingress = Users(\"Developers\")\n",
        "    with Cluster(\"Docker Conatainer\"):\n",
        "        with Cluster(\"App\"):\n",
        "            userfacing = Docker(\"Streamlit\")\n",
        "            backend = Docker(\"FastAPI\")\n",
        "            \n",
        "\n",
        "        with Cluster(\"Sqlite Database\"):\n",
        "            db = SQLServers(\"SQlite\")\n",
        "\n",
        "        with Cluster(\"Airflow Process\"):\n",
        "            airflow = Airflow(\"Airflow\")\n",
        "            hostings = S3(\"Data Quality Reports\")\n",
        "\n",
        "        with Cluster(\"AWS services\"):\n",
        "            cloudwatch = Cloudwatch(\"AWS Logs\")\n",
        "            bucket = ElasticBlockStoreEBSSnapshot(\"AWS s3 bucket\")\n",
        "    \n",
        "    hostings>> Edge(label=\"GE reports\") >> bucket\n",
        "    backend << Edge(label=\"API Call\", color=\"black\") << userfacing\n",
        "    backend << Edge(label=\"User Verification\") << db\n",
        "    team = Users(\"User Login\")\n",
        "    metadata = S3(\"AWS s3 GEOSPATIAL BUCKET\")\n",
        "\n",
        "    # team << Edge(\"User Interface\") << userfacing\n",
        "    GE >> Edge() >> db\n",
        "    GE >> Edge(label=\"static GE html report\") >> hostings\n",
        "    airflow >> Edge(label=\"GE checkpoints\") >> db\n",
        "    # airflow >> Edge(label=\"GE checkpoints\") >> GE\n",
        "\n",
        "    \n",
        "    airflow >> Edge(label=\"AWS Bucket Updation\") >> bucket\n",
        "\n",
        "    airflow << Edge(label=\"Data Collection\") << metadata\n",
        "\n",
        "    # cloudwatch >> Edge(\"Logging actions in AWS cloudwatch\") >> airflow\n",
        "    # hostings>> Edge(\"GE reports check periodically\") >> bucket\n"
      ]
    },
    {
      "cell_type": "code",
      "source": [
        "from diagrams.aws.general import "
      ],
      "metadata": {
        "colab": {
          "base_uri": "https://localhost:8080/"
        },
        "id": "iRH4JPjqnZW_",
        "outputId": "dd32f8da-d5ac-4269-9ad1-276cd19cc770"
      },
      "execution_count": 2,
      "outputs": [
        {
          "output_type": "stream",
          "name": "stdout",
          "text": [
            "Looking in indexes: https://pypi.org/simple, https://us-python.pkg.dev/colab-wheels/public/simple/\n",
            "Collecting diagrams\n",
            "  Downloading diagrams-0.23.3-py3-none-any.whl (24.4 MB)\n",
            "\u001b[2K     \u001b[90m━━━━━━━━━━━━━━━━━━━━━━━━━━━━━━━━━━━━━━━━\u001b[0m \u001b[32m24.4/24.4 MB\u001b[0m \u001b[31m39.8 MB/s\u001b[0m eta \u001b[36m0:00:00\u001b[0m\n",
            "\u001b[?25hCollecting typed-ast<2.0.0,>=1.5.4\n",
            "  Downloading typed_ast-1.5.4-cp38-cp38-manylinux_2_5_x86_64.manylinux1_x86_64.manylinux_2_12_x86_64.manylinux2010_x86_64.whl (897 kB)\n",
            "\u001b[2K     \u001b[90m━━━━━━━━━━━━━━━━━━━━━━━━━━━━━━━━━━━━━━\u001b[0m \u001b[32m897.2/897.2 KB\u001b[0m \u001b[31m36.0 MB/s\u001b[0m eta \u001b[36m0:00:00\u001b[0m\n",
            "\u001b[?25hCollecting graphviz<0.21.0,>=0.13.2\n",
            "  Downloading graphviz-0.20.1-py3-none-any.whl (47 kB)\n",
            "\u001b[2K     \u001b[90m━━━━━━━━━━━━━━━━━━━━━━━━━━━━━━━━━━━━━━━━\u001b[0m \u001b[32m47.0/47.0 KB\u001b[0m \u001b[31m3.2 MB/s\u001b[0m eta \u001b[36m0:00:00\u001b[0m\n",
            "\u001b[?25hRequirement already satisfied: jinja2<4.0,>=2.10 in /usr/local/lib/python3.8/dist-packages (from diagrams) (3.1.2)\n",
            "Requirement already satisfied: MarkupSafe>=2.0 in /usr/local/lib/python3.8/dist-packages (from jinja2<4.0,>=2.10->diagrams) (2.1.2)\n",
            "Installing collected packages: typed-ast, graphviz, diagrams\n",
            "  Attempting uninstall: graphviz\n",
            "    Found existing installation: graphviz 0.10.1\n",
            "    Uninstalling graphviz-0.10.1:\n",
            "      Successfully uninstalled graphviz-0.10.1\n",
            "Successfully installed diagrams-0.23.3 graphviz-0.20.1 typed-ast-1.5.4\n"
          ]
        }
      ]
    },
    {
      "cell_type": "markdown",
      "source": [],
      "metadata": {
        "id": "RQ_wX6MNLjax"
      }
    }
  ]
}